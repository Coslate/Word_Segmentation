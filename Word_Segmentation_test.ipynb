{
 "cells": [
  {
   "cell_type": "code",
   "execution_count": 3,
   "metadata": {},
   "outputs": [
    {
     "name": "stdout",
     "output_type": "stream",
     "text": [
      "Default Mode: 我來/ 到/ 北京/ 清華大學\n"
     ]
    }
   ],
   "source": [
    "import jieba\n",
    "\n",
    "seg_list = jieba.cut(\"我來到北京清華大學\", cut_all=False)\n",
    "print(\"Default Mode: \" + \"/ \".join(seg_list))  # 精确模式\n",
    "\n",
    "#輸出 Default Mode: 我/ 来到/ 北京/ 清华大学"
   ]
  },
  {
   "cell_type": "code",
   "execution_count": 4,
   "metadata": {},
   "outputs": [
    {
     "name": "stdout",
     "output_type": "stream",
     "text": [
      "在|非洲|，|每|六十|秒|，|就|有|一分|鐘過|去\n"
     ]
    }
   ],
   "source": [
    "seg_list = jieba.cut(\"在非洲，每六十秒，就有一分鐘過去\") \n",
    "print(\"|\".join(seg_list))"
   ]
  },
  {
   "cell_type": "code",
   "execution_count": 6,
   "metadata": {},
   "outputs": [],
   "source": [
    "jieba.set_dictionary(\"trad_word_lib/dict.txt.big\")"
   ]
  },
  {
   "cell_type": "code",
   "execution_count": 7,
   "metadata": {},
   "outputs": [
    {
     "name": "stderr",
     "output_type": "stream",
     "text": [
      "Building prefix dict from /Users/coslate/Word_Segmentation/trad_word_lib/dict.txt.big ...\n",
      "Dumping model to file cache /var/folders/_f/wp7mv0fj6t52kpgg56b0lklh0000gn/T/jieba.ue0cc5f10575fbec1ff6a1b5deea0c5ae.cache\n",
      "Loading model cost 1.582 seconds.\n",
      "Prefix dict has been built succesfully.\n"
     ]
    },
    {
     "name": "stdout",
     "output_type": "stream",
     "text": [
      "Default Mode: 我/ 來到/ 北京/ 清華大學\n"
     ]
    }
   ],
   "source": [
    "seg_list = jieba.cut(\"我來到北京清華大學\", cut_all=False)\n",
    "print(\"Default Mode: \" + \"/ \".join(seg_list))  # 精确模式"
   ]
  },
  {
   "cell_type": "code",
   "execution_count": 20,
   "metadata": {},
   "outputs": [
    {
     "name": "stdout",
     "output_type": "stream",
     "text": [
      "Default Mode: 我/ 來到/ 北京/ 清華/ 大學\n"
     ]
    }
   ],
   "source": [
    "from jieba_zh_TW import jieba\n",
    "\n",
    "seg_list = jieba.cut(\"我來到北京清華大學\", cut_all=False)\n",
    "print(\"Default Mode: \" + \"/ \".join(seg_list))  # 精确模式"
   ]
  },
  {
   "cell_type": "code",
   "execution_count": 21,
   "metadata": {},
   "outputs": [
    {
     "name": "stdout",
     "output_type": "stream",
     "text": [
      "在|非洲|，|每|六十|秒|，|就|有|一分|鐘過|去\n"
     ]
    }
   ],
   "source": [
    "seg_list = jieba.cut(\"在非洲，每六十秒，就有一分鐘過去\") \n",
    "print(\"|\".join(seg_list))\n",
    "# 在|非洲|，|每|六十秒|，|就|有|一分鐘|過去"
   ]
  },
  {
   "cell_type": "code",
   "execution_count": 22,
   "metadata": {},
   "outputs": [],
   "source": [
    "del jieba"
   ]
  },
  {
   "cell_type": "code",
   "execution_count": 23,
   "metadata": {},
   "outputs": [
    {
     "ename": "NameError",
     "evalue": "name 'jieba' is not defined",
     "output_type": "error",
     "traceback": [
      "\u001b[0;31m---------------------------------------------------------------------------\u001b[0m",
      "\u001b[0;31mNameError\u001b[0m                                 Traceback (most recent call last)",
      "\u001b[0;32m<ipython-input-23-f6bffd8ea1d5>\u001b[0m in \u001b[0;36m<module>\u001b[0;34m()\u001b[0m\n\u001b[0;32m----> 1\u001b[0;31m \u001b[0mseg_list\u001b[0m \u001b[0;34m=\u001b[0m \u001b[0mjieba\u001b[0m\u001b[0;34m.\u001b[0m\u001b[0mcut\u001b[0m\u001b[0;34m(\u001b[0m\u001b[0;34m\"在非洲，每六十秒，就有一分鐘過去\"\u001b[0m\u001b[0;34m)\u001b[0m\u001b[0;34m\u001b[0m\u001b[0m\n\u001b[0m\u001b[1;32m      2\u001b[0m \u001b[0mprint\u001b[0m\u001b[0;34m(\u001b[0m\u001b[0;34m\"|\"\u001b[0m\u001b[0;34m.\u001b[0m\u001b[0mjoin\u001b[0m\u001b[0;34m(\u001b[0m\u001b[0mseg_list\u001b[0m\u001b[0;34m)\u001b[0m\u001b[0;34m)\u001b[0m\u001b[0;34m\u001b[0m\u001b[0m\n\u001b[1;32m      3\u001b[0m \u001b[0;31m# 在|非洲|，|每|六十秒|，|就|有|一分鐘|過去\u001b[0m\u001b[0;34m\u001b[0m\u001b[0;34m\u001b[0m\u001b[0m\n",
      "\u001b[0;31mNameError\u001b[0m: name 'jieba' is not defined"
     ]
    }
   ],
   "source": [
    "seg_list = jieba.cut(\"在非洲，每六十秒，就有一分鐘過去\") \n",
    "print(\"|\".join(seg_list))\n",
    "# 在|非洲|，|每|六十秒|，|就|有|一分鐘|過去"
   ]
  },
  {
   "cell_type": "code",
   "execution_count": 24,
   "metadata": {},
   "outputs": [
    {
     "name": "stdout",
     "output_type": "stream",
     "text": [
      "Default Mode: 我/ 來到/ 北京/ 清華/ 大學\n"
     ]
    }
   ],
   "source": [
    "from jieba_zh_TW import jieba\n",
    "\n",
    "seg_list = jieba.cut(\"我來到北京清華大學\", cut_all=False)\n",
    "print(\"Default Mode: \" + \"/ \".join(seg_list))  # 精确模式"
   ]
  },
  {
   "cell_type": "code",
   "execution_count": 25,
   "metadata": {},
   "outputs": [
    {
     "name": "stdout",
     "output_type": "stream",
     "text": [
      "在|非洲|，|每|六十|秒|，|就|有|一分|鐘過|去\n"
     ]
    }
   ],
   "source": [
    "seg_list = jieba.cut(\"在非洲，每六十秒，就有一分鐘過去\") \n",
    "print(\"|\".join(seg_list))\n",
    "# 在|非洲|，|每|六十秒|，|就|有|一分鐘|過去"
   ]
  },
  {
   "cell_type": "code",
   "execution_count": 26,
   "metadata": {},
   "outputs": [],
   "source": [
    "del jieba"
   ]
  },
  {
   "cell_type": "code",
   "execution_count": 28,
   "metadata": {},
   "outputs": [
    {
     "name": "stderr",
     "output_type": "stream",
     "text": [
      "Building prefix dict from /Users/coslate/Word_Segmentation/trad_word_lib/dict.txt.big ...\n",
      "Loading model from cache /var/folders/_f/wp7mv0fj6t52kpgg56b0lklh0000gn/T/jieba.ue0cc5f10575fbec1ff6a1b5deea0c5ae.cache\n",
      "Loading model cost 1.282 seconds.\n",
      "Prefix dict has been built succesfully.\n"
     ]
    },
    {
     "name": "stdout",
     "output_type": "stream",
     "text": [
      "在|非洲|，|每|六十|秒|，|就|有|一分鐘|過去\n"
     ]
    }
   ],
   "source": [
    "import jieba\n",
    "\n",
    "\n",
    "\n",
    "seg_list = jieba.cut(\"在非洲，每六十秒，就有一分鐘過去\") \n",
    "print(\"|\".join(seg_list))\n",
    "# 在|非洲|，|每|六十秒|，|就|有|一分鐘|過去"
   ]
  },
  {
   "cell_type": "code",
   "execution_count": null,
   "metadata": {},
   "outputs": [],
   "source": []
  }
 ],
 "metadata": {
  "kernelspec": {
   "display_name": "Python 3",
   "language": "python",
   "name": "python3"
  },
  "language_info": {
   "codemirror_mode": {
    "name": "ipython",
    "version": 3
   },
   "file_extension": ".py",
   "mimetype": "text/x-python",
   "name": "python",
   "nbconvert_exporter": "python",
   "pygments_lexer": "ipython3",
   "version": "3.6.5"
  }
 },
 "nbformat": 4,
 "nbformat_minor": 2
}
